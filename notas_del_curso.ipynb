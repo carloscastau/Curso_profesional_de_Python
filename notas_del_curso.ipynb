{
 "cells": [
  {
   "cell_type": "markdown",
   "metadata": {},
   "source": [
    "# Curso Profesional de Python"
   ]
  },
  {
   "cell_type": "markdown",
   "metadata": {},
   "source": [
    "![](https://static.platzi.com/media/user_upload/og-profesional-de-python-0e010726-32ab-441c-ba42-14c4cd770688.jpg)"
   ]
  },
  {
   "cell_type": "markdown",
   "metadata": {},
   "source": [
    "## ¿Cómo funciona Python?\n",
    "\n",
    "Funciona  similar a C++ este se comunica directamente con la computadora, en cambio python como veras en la imagen abajo la forma grafica de su funcionamiento. Pues, hay una fase intermedia por medio de py code una \"maquina virtual\" porque python no es codigo maquina para entregarselo a python\n",
    "\n",
    "### Python es un lenguaje interpretado\n",
    "\n",
    "lo que significa que tu código es transformado por el intérprete (máquina virtual de Python) a bytecode antes de ser ejecutado por un ordenador con x sistema operativo. El bytecodees un lenguaje de programación de más bajo nivel (si esto no te es claro, te recomiendo que vayas a tomar los cursos sobre lenguajes y paradigmas de programación y el de fundamentos de ing. de software. (Básicamente desde que corres tu programa hasta que la PC lo ejecuta hay una carrera de relevos de lenguajes o protocolos hasta llegar al transistor y la señal eléctrica)\n",
    "\n",
    "![](https://static.platzi.com/media/user_upload/20210727_191553-e308f826-0f99-4c5a-96a3-a6ff3be2217b.jpg)\n",
    "\n",
    "### Garbage collector\n",
    "Recuerda que el garbage collector toma los objetos y variables que no están en uso y los elimina.\n",
    "\n",
    "\n",
    "### pycache\n",
    "_pycache _ es el directorio (carpeta) que contiene el bytecode (el código intermedio) que crea Python para que lo pueda leer la máquina virtual."
   ]
  },
  {
   "cell_type": "markdown",
   "metadata": {},
   "source": [
    "# ¿Cómo organizar las carpetas de tus proyectos?\n",
    "\n",
    "📁Un módulo es cualquier archivo de Python. Generalmente, contiene código que puedes reutilizar.\n",
    "\n",
    "**Nota:** los archivos downder inician y finalizan con \"__\"\n",
    "\n",
    "🗄 Un paquete es un conjunto de módulos. Siempre posee el archivo __init__.py.\n",
    "Un ejemplo de organizar los archivos de 🐍Python es de la siguiente manera.\n",
    "\n",
    "\n",
    "\n",
    "![](https://static.platzi.com/media/user_upload/paquettes-5a4095f3-0811-4e56-8f06-296b42b2e497.jpg)"
   ]
  },
  {
   "cell_type": "markdown",
   "metadata": {},
   "source": [
    "### TeX(LaTeX)\n",
    "\n",
    "- Ecuaciones \n",
    "\n",
    "$$E=mc^2$$\n",
    "\n",
    "Inline $$E=mc^2$$ Inline，Inline $$E=mc^2$$ Inline。\n",
    "\n",
    "$$\\ ( \\sqrt{3x-1}+(1+x)^2 \\ )$$\n",
    "                    \n",
    "$$\\sin(\\alpha)^{\\theta}=\\sum_{i=0}^{n}(x^i + \\cos(f))$$"
   ]
  },
  {
   "cell_type": "markdown",
   "metadata": {},
   "source": []
  },
  {
   "cell_type": "code",
   "execution_count": null,
   "metadata": {},
   "outputs": [],
   "source": []
  }
 ],
 "metadata": {
  "interpreter": {
   "hash": "916dbcbb3f70747c44a77c7bcd40155683ae19c65e1c03b4aa3499c5328201f1"
  },
  "kernelspec": {
   "display_name": "Python 3.10.4 64-bit",
   "language": "python",
   "name": "python3"
  },
  "language_info": {
   "codemirror_mode": {
    "name": "ipython",
    "version": 3
   },
   "file_extension": ".py",
   "mimetype": "text/x-python",
   "name": "python",
   "nbconvert_exporter": "python",
   "pygments_lexer": "ipython3",
   "version": "3.10.4"
  },
  "orig_nbformat": 4
 },
 "nbformat": 4,
 "nbformat_minor": 2
}
