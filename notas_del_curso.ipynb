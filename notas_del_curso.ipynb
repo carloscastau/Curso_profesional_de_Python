{
 "cells": [
  {
   "cell_type": "markdown",
   "metadata": {},
   "source": [
    "# Curso Profesional de Python"
   ]
  },
  {
   "cell_type": "markdown",
   "metadata": {},
   "source": [
    "![](https://static.platzi.com/media/user_upload/og-profesional-de-python-0e010726-32ab-441c-ba42-14c4cd770688.jpg)"
   ]
  },
  {
   "cell_type": "markdown",
   "metadata": {},
   "source": [
    "## ¿Cómo funciona Python?\n",
    "\n",
    "Funciona  similar a C++ este se comunica directamente con la computadora, en cambio python como veras en la imagen abajo la forma grafica de su funcionamiento. Pues, hay una fase intermedia por medio de py code una \"maquina virtual\" porque python no es codigo maquina para entregarselo a python\n",
    "\n",
    "### Python es un lenguaje interpretado\n",
    "\n",
    "lo que significa que tu código es transformado por el intérprete (máquina virtual de Python) a bytecode antes de ser ejecutado por un ordenador con x sistema operativo. El bytecodees un lenguaje de programación de más bajo nivel (si esto no te es claro, te recomiendo que vayas a tomar los cursos sobre lenguajes y paradigmas de programación y el de fundamentos de ing. de software. (Básicamente desde que corres tu programa hasta que la PC lo ejecuta hay una carrera de relevos de lenguajes o protocolos hasta llegar al transistor y la señal eléctrica)\n",
    "\n",
    "![](https://static.platzi.com/media/user_upload/20210727_191553-e308f826-0f99-4c5a-96a3-a6ff3be2217b.jpg)\n",
    "\n",
    "### Garbage collector\n",
    "Recuerda que el garbage collector toma los objetos y variables que no están en uso y los elimina.\n",
    "\n",
    "\n",
    "### pycache\n",
    "_pycache _ es el directorio (carpeta) que contiene el bytecode (el código intermedio) que crea Python para que lo pueda leer la máquina virtual."
   ]
  },
  {
   "cell_type": "markdown",
   "metadata": {},
   "source": [
    "# ¿Cómo organizar las carpetas de tus proyectos?\n",
    "\n",
    "📁Un módulo es cualquier archivo de Python. Generalmente, contiene código que puedes reutilizar.\n",
    "\n",
    "**Nota:** los archivos downder inician y finalizan con \"__\"\n",
    "\n",
    "🗄 Un paquete es un conjunto de módulos. Siempre posee el archivo __init__.py.\n",
    "Un ejemplo de organizar los archivos de 🐍Python es de la siguiente manera.\n",
    "\n",
    "\n",
    "\n",
    "![](https://static.platzi.com/media/user_upload/paquettes-5a4095f3-0811-4e56-8f06-296b42b2e497.jpg)"
   ]
  },
  {
   "cell_type": "markdown",
   "metadata": {},
   "source": [
    "# ¿Qué son los tipados?\n",
    "\n",
    ">💻 Los tipados son una clasificación de los lenguajes de programación, tenemos cuatro tipos:\n",
    "> - **Estático:** Detectan los errores en tiempo de compilación. No se ejecuta hasta corregir. Por ej, Java\n",
    "> - **Dinámico:** Detectan el error en tiempo de ejecución. Nos dice el error cuando llega a la línea del código. Por ej, Python\n",
    ">- **Débil:** Menos severidad con los tipos de datos. Si quiero sumar número y letra, las concatenaría como strings. Castea tipos de datos automáticamente. Por ej, PHP\n",
    "> - **Fuerte:** Más severidad con los tipos de datos. Sumar un número + una letra arrojará error.\n",
    "\n",
    "El tipado del lenguaje depende de cómo trata a los tipos de datos. El tipado *estático* es el que levanta un error en el tiempo de compilación, ejemplo en JAVA:\n",
    "\n",
    ">String str = \"Hello\" // Variable tipo String\n",
    "\n",
    ">str = 5 // ERROR: no se puede convertir un tipo de dato en otro de esta forma.\n",
    "\n",
    "El tipado dinámico levantan el error en tiempo de ejecución, ejemplo en Python:\n",
    "\n",
    ">str = \"Hello\" # Variable tipo String \n",
    "\n",
    ">str = 5 # La variable ahora es de tipo Entero, no hay error\n",
    "\n",
    "*TIPADO FUERTE*\n",
    "\n",
    ">x = 1\n",
    "\n",
    ">y = \"2\"\n",
    "\n",
    ">z = x + y ERROR: no podemos hacer estas operaciones con tipos de datos distintos entre sí\n",
    "\n",
    "El tipado débil es el que hace un cambio en un tipo de dato para poder operar con el, como lo hace JavaScript y PHP.\n",
    "\n",
    "🐍 Python es un lenguaje de tipado 👾 Dinámico y 💪 Fuerte.\n",
    "\n",
    "![](https://i.imgur.com/qYICZCe.png)"
   ]
  },
  {
   "cell_type": "markdown",
   "metadata": {},
   "source": [
    "# Tipado estático en Python\n",
    "\n",
    "Para hacer que Python sea de tipado estático es necesario agregar algo de sintaxis adicional a lo aprendido, además, esta característica solo se puede aplicar a partir de la versión 3.6."
   ]
  },
  {
   "cell_type": "code",
   "execution_count": 22,
   "metadata": {},
   "outputs": [
    {
     "name": "stdout",
     "output_type": "stream",
     "text": [
      "5\n",
      "Hola\n",
      "True\n"
     ]
    }
   ],
   "source": [
    "# De esta manera se declara una variable, se colocan los dos puntos (:), el tipo de dato y para finalizar se usa el signo igual para asignar el valor a la variable.\n",
    "\n",
    "# <variable> : <tipo_de_dato> = <valor_asignado>\n",
    "\n",
    "a: int = 5\n",
    "print(a)\n",
    "\n",
    "b: str = \"Hola\"\n",
    "print(b)\n",
    "\n",
    "c: bool = True\n",
    "print(c)"
   ]
  },
  {
   "cell_type": "markdown",
   "metadata": {},
   "source": [
    "Del mismo modo se puede usar esta metodología de tipado en Python a funciones adicionando el signo menos a continuación del signo mayor que para determinar el tipo de dato. Ejemplo:"
   ]
  },
  {
   "cell_type": "code",
   "execution_count": 23,
   "metadata": {},
   "outputs": [
    {
     "name": "stdout",
     "output_type": "stream",
     "text": [
      "3\n",
      "12\n"
     ]
    }
   ],
   "source": [
    "#def ( <parametro1> : <tipo_de_dato>, <parametro2> : <tipo_de_dato> ) ->  <tipo_de_dato> :\n",
    "#\tpass\n",
    "\n",
    "def suma(a: int, b: int) -> int :\n",
    "\treturn a + b\n",
    "\n",
    "print(suma(1,2))\n",
    "\n",
    "\n",
    "#Aunque se le digan que son int va a sumar los str como por ejemplo acá\n",
    "def suma(a: int, b: int) -> int :\n",
    "\treturn a + b\n",
    "\n",
    "print(suma('1','2'))\n",
    "\n",
    "# 3"
   ]
  },
  {
   "cell_type": "markdown",
   "metadata": {},
   "source": [
    "Existe una librería de fabrica que viene preinstalada con Python que se llama typing, que es de gran utilidad para trabajar con tipado con estructuras de datos entre la versión 3.6 y 3.9, entonces:"
   ]
  },
  {
   "cell_type": "code",
   "execution_count": 24,
   "metadata": {},
   "outputs": [],
   "source": [
    "from typing import Dict, List\n",
    "\n",
    "#El tipo de dato dentro de los corchetes\n",
    "positives: List [int] = [1,2,3,4,5]\n",
    "\n",
    "#El tipo de dato dentro de los corchetes\n",
    "users: Dict [str, int] = {\n",
    "\t\"argentina\": 1,\n",
    "\t\"mexico\": 34,\n",
    "\t\"colombia\": 45,\n",
    "}\n",
    "\n",
    "#El tipo de dato dentro de los corchetes\n",
    "countries: List[Dict[str, str]] = [\n",
    "\t{\n",
    "\t\t\"name\" : \"Argentina\",\n",
    "\t\t\"people\" : \"45000\",\n",
    "\t},\n",
    "\t{\n",
    "\t\t\"name\" : \"México\",\n",
    "\t\t\"people\" : \"9000000\",\n",
    "\t},\n",
    "\t{\n",
    "\t\t\"name\" : \"Colombia\",\n",
    "\t\t\"people\" : \"99999999999\",\n",
    "\t}\n",
    "]"
   ]
  },
  {
   "cell_type": "code",
   "execution_count": 25,
   "metadata": {},
   "outputs": [],
   "source": [
    "#Para las tuplas se usan estas librerias\n",
    "from typing import Tuple, Dict, List\n",
    "\n",
    "CoordinatesType = List[Dict[str, Tuple[int, int]]]\n",
    "\n",
    "coordinates: CoordinatesType = [\n",
    "\t{\n",
    "\t\t\"coord1\": (1,2),\n",
    "\t\t\"coord2\": (3,5)\n",
    "\t},\n",
    "\t{\n",
    "\t\t\"coord1\": (0,1),\n",
    "\t\t\"coord2\": (2,5)\n",
    "\t}\n",
    "]"
   ]
  },
  {
   "cell_type": "markdown",
   "metadata": {},
   "source": [
    "**Modulo mypy**\n",
    ".\n",
    "El modulo mypy se complementa con el modulo typing ya que permitirá mostrar los errores de tipado debil en Python.\n",
    "Para revisar si algún archivo contiene errores de tipado ejecutamos en la línea de comandos lo siguiente:\n",
    "\n",
    "mypy archivo.py --check-untyped-defs"
   ]
  },
  {
   "cell_type": "markdown",
   "metadata": {},
   "source": [
    "# Scope: alcance de las variables\n",
    "\n",
    "El scope es el alcance que tienen las variables. Depende de donde declares o inicialices una variable para saber si tienes acceso. Regla de oro:\n",
    "\n",
    ">una variable solo esta disponible dentro de la region donde fue creada\n",
    "\n",
    "**Local Scope**\n",
    "Es la región que corresponde el ámbito de una función, donde podremos tener una o mas variables, las variables van a ser accesibles únicamente en esta region y no serán visibles para otras regiones\n",
    "\n",
    "**Global Scope**\n",
    "Al escribir una o mas variables en esta region, estas podrán ser accesibles desde cualquier parte del código.\n",
    "![](https://static.platzi.com/media/user_upload/Untitled-5d8878b2-048d-4017-a0de-a582e3f494d5.jpg)"
   ]
  },
  {
   "cell_type": "markdown",
   "metadata": {},
   "source": [
    "# Closures\n",
    "Es una forma de acceder a variables de otros scopes a través de una nested function. Se retorna la nested function y esta recuerda el valor que imprime, aunque a la hora de ejecutarla no este dentro de su alcance.\n",
    "\n",
    "**Nested functions:** Las funciones anidadas son simplemente funciones creadas dentro de otra función. Podemos hacer return de una función creada dentro de otra función 😵 y luego guardar esas funciones en variables que podemos utilizar.\n",
    "\n",
    "reglas para encontrar un *closure*:\n",
    "\n",
    "- debemos tener una nested function\n",
    "- la nested function debe referenciar un valor de un scope superior\n",
    "- la función que envuelve la nested debe retornarla también\n",
    "- cuando tenemos una clase que tiene solo un método\n",
    "- cuando trabajamos con decoradores\n",
    "\n",
    "Los closure aparecen en dos casos particulares: cuando tenemos una clase corta (con un solo método), los usamos para que sean elegantes. El segundo caso, es cuando usamos decoradores 👀"
   ]
  },
  {
   "cell_type": "markdown",
   "metadata": {},
   "source": [
    "# Decoradores\n",
    "\n",
    "Un decorador es una función que recibe como parámetro otra función, le añade cosas y retorna una función diferente. Tienen la misma estructura que los Closures pero en vez de variables lo que se envía es una función. Ejemplo:"
   ]
  },
  {
   "cell_type": "code",
   "execution_count": 26,
   "metadata": {},
   "outputs": [
    {
     "name": "stdout",
     "output_type": "stream",
     "text": [
      "¡Hola!\n",
      "Esto se añade a mi función original.\n",
      "¡Hola!\n"
     ]
    }
   ],
   "source": [
    "def decorador(func):\n",
    "    def envoltura():\n",
    "        print(\"Esto se añade a mi función original.\")\n",
    "        func()\n",
    "    return envoltura\n",
    "\n",
    "def saludo():\n",
    "    print(\"¡Hola!\")\n",
    "\n",
    "saludo()\n",
    "# Salida:\n",
    "# ¡Hola!\n",
    "\n",
    "saludo = decorador(saludo) # Se guarda la función decorada en la variable saludo\n",
    "saludo()                   # La función saludo está ahora decorada\n",
    "# Salida:\n",
    "# Esto se añade a mi función original.\n",
    "# ¡Hola!"
   ]
  },
  {
   "cell_type": "markdown",
   "metadata": {},
   "source": [
    "Se puede hacer de manera mas sencilla, con azúcar sintáctica (sugar syntax): Cuando tenemos un código que está embellecido para que nosotros lo veamos de una manera más estática, ayudando a entender de manera mas sencilla el código. De esta manera, tenemos el código anterior:"
   ]
  },
  {
   "cell_type": "code",
   "execution_count": 27,
   "metadata": {},
   "outputs": [
    {
     "name": "stdout",
     "output_type": "stream",
     "text": [
      "Esto se añade a mi función original.\n",
      "¡Hola!\n"
     ]
    }
   ],
   "source": [
    "def decorador(func):\n",
    "    def envoltura():\n",
    "        print(\"Esto se añade a mi función original.\")\n",
    "        func()\n",
    "    return envoltura\n",
    "\n",
    "def saludo():\n",
    "    print(\"¡Hola!\")\n",
    "saludo = decorador(saludo) # Se guarda la función decorada en la variable saludo (se decora)\n",
    "\n",
    "saludo()                   # La función saludo está ahora decorada"
   ]
  },
  {
   "cell_type": "code",
   "execution_count": 28,
   "metadata": {},
   "outputs": [
    {
     "name": "stdout",
     "output_type": "stream",
     "text": [
      "Esto se añade a mi función original.\n",
      "¡Hola!\n"
     ]
    }
   ],
   "source": [
    "def decorador(func):\n",
    "    def envoltura():\n",
    "        print(\"Esto se añade a mi función original.\")\n",
    "        func()\n",
    "    return envoltura\n",
    "\n",
    "# De esta manera se decora la función saludo (equivale a saludo = decorador(saludo) de la última línea, quedando ahora en la línea inmediata superior ):\n",
    "@decorador                \n",
    "def saludo():\n",
    "    print(\"¡Hola!\")\n",
    "\n",
    "saludo()                   # La función saludo está ahora decorada "
   ]
  },
  {
   "cell_type": "markdown",
   "metadata": {},
   "source": [
    "Esto permite ahorrar código al implementar características (decoradores) comunes a diferentes funciones:"
   ]
  },
  {
   "cell_type": "code",
   "execution_count": 29,
   "metadata": {},
   "outputs": [
    {
     "name": "stdout",
     "output_type": "stream",
     "text": [
      "CESAR, RECIBISTE UN MENSAJE\n",
      "USA SOLO MAYÚSCULAS CESAR\n"
     ]
    }
   ],
   "source": [
    "def decorator_upper(func):                  # Función decoradora\n",
    "    def wrapper(text):                      # Función anidada\n",
    "        return func(text).upper()           # Operación que realiza el decorado a la función (func), inserta el texto a la función original. Convierte todo a mayúsculas.\n",
    "    return wrapper                          # Devuelve wapper como indica la regla de los Clousures\n",
    "\n",
    "@decorator_upper                            # Decora la función message\n",
    "def message(name):\n",
    "    return f'{name}, recibiste un mensaje'  # Esto es lo que realiza la función message, previo a ser decorada.\n",
    "\n",
    "@decorator_upper                            # Decora la función warning\n",
    "def warning(name):\n",
    "    return f'Usa solo mayúsculas {name}'  # Esto es lo que realiza la función warning, previo a ser decorada.\n",
    "\n",
    "print(message(\"Cesar\")) # Output: CESAR, RECIBISTE UN MENSAJE\n",
    "print(warning(\"Cesar\")) # Output: USA SOLO MAYÚSCULAS CESAR"
   ]
  },
  {
   "cell_type": "markdown",
   "metadata": {},
   "source": [
    "# Estructuras de datos avanzadas\n",
    "## Iteradores\n",
    "\n",
    "Una estructura de datos para guardar datos infinitos\n",
    "Antes de entender qué son los iteradores, primero debemos entender a los iterables.\n",
    "\n",
    "Son todos aquellos objetos que podemos recorrer en un ciclo. Son aquellas estructuras de datos divisibles en elementos únicos que yo puedo recorrer en un ciclo.\n",
    "\n",
    "Pero en Python las cosas no son así. Los iterables se convierten en iteradores.\n",
    "\n",
    "Ejemplo:"
   ]
  },
  {
   "cell_type": "code",
   "execution_count": 30,
   "metadata": {},
   "outputs": [
    {
     "name": "stdout",
     "output_type": "stream",
     "text": [
      "1\n"
     ]
    }
   ],
   "source": [
    "# Creando un iterador\n",
    "\n",
    "my_list = [1,2,3,4,5]\n",
    "my_iter = iter(my_list)\n",
    "\n",
    "# Iterando un iterador\n",
    "\n",
    "print(next(my_iter))\n",
    "\n",
    "# Cuando no quedan datos, la excepción StopIteration es elevada"
   ]
  },
  {
   "cell_type": "code",
   "execution_count": 31,
   "metadata": {},
   "outputs": [
    {
     "name": "stdout",
     "output_type": "stream",
     "text": [
      "1\n",
      "2\n",
      "3\n",
      "4\n",
      "5\n"
     ]
    }
   ],
   "source": [
    "# Creando un iterador\n",
    "\n",
    "my_list = [1,2,3,4,5]\n",
    "my_iter = iter(my_list)\n",
    "\n",
    "# Iterando un iterador\n",
    "\n",
    "while True: #ciclo infinito\n",
    "  try:\n",
    "    element = next(my_iter)\n",
    "    print(element)\n",
    "  except StopIteration:\n",
    "    break"
   ]
  },
  {
   "cell_type": "markdown",
   "metadata": {},
   "source": [
    "**Momento impactante:** El ciclo “for” dentro de Python, no existe. Es un while con StopIteration. 🤯🤯🤯"
   ]
  },
  {
   "cell_type": "code",
   "execution_count": 32,
   "metadata": {},
   "outputs": [
    {
     "name": "stdout",
     "output_type": "stream",
     "text": [
      "1\n",
      "2\n",
      "3\n",
      "4\n",
      "5\n"
     ]
    }
   ],
   "source": [
    "my_list = [1,2,3,4,5]\n",
    "\n",
    "for element in my_list:\n",
    "  print(element)"
   ]
  },
  {
   "cell_type": "code",
   "execution_count": 33,
   "metadata": {},
   "outputs": [],
   "source": [
    "class EvenNumbers:\n",
    "  \"\"\"Clase que implementa un iterador de todos los números pares,\n",
    "  o los números pares hasta un máximo\n",
    "  \"\"\"\n",
    "\n",
    "  #* Constructor de la clase\n",
    "  def __init__(self, max = None): #self hace referencia al objeto futuro que voy a crear con esta clase\n",
    "    self.max = max\n",
    "\n",
    "\n",
    "  # Método para tener elementos o atributos que voy a necesitar para que el iterador funcione\n",
    "  def __iter__(self):\n",
    "    self.num = 0 #Primer número par\n",
    "    #* Convertir un iterable en un iterador\n",
    "    return self\n",
    "\n",
    "  # Método para tener la función \"next\" de Python\n",
    "  def __next__(self):\n",
    "    if not self.max or self.num <= self.max:\n",
    "      result = self.num\n",
    "      self.num += 2\n",
    "      return result\n",
    "    else:\n",
    "      raise StopIteration"
   ]
  },
  {
   "cell_type": "markdown",
   "metadata": {},
   "source": [
    "Ventajas de usar iteradores:\n",
    "\n",
    "Nos ahorra recursos.\n",
    "Ocupan poca memoria."
   ]
  },
  {
   "cell_type": "markdown",
   "metadata": {},
   "source": [
    "Iterables aquellas estructuras de datos divisibles en elementos únicos que se pueden recorrer en un ciclo.\n",
    "\n",
    "Todos los iterables pueden convertirse en iteradores para poder ser recorridos en un ciclo.\n",
    "\n",
    "¡El ciclo for no existe!\n",
    "Es un alias de un ciclo While infinito con un Try except que controla el Error StopIteration\n",
    "\n",
    "Construir un iterador desde cero en Python.\n",
    "Solo tenemos que implementar los métodos"
   ]
  },
  {
   "cell_type": "code",
   "execution_count": 34,
   "metadata": {},
   "outputs": [],
   "source": [
    "#__iter__():\n",
    "#\t\"El método __iter__() devuelve el objeto iterador en sí. Si es necesario, se puede realizar alguna inicialización.\"\n",
    "\n",
    "#__next__():\n",
    "#\t\"El  método __next__() debe devolver el siguiente elemento de la secuencia.Al llegar al final, y  debe subir el error StopIteration.\""
   ]
  },
  {
   "cell_type": "markdown",
   "metadata": {},
   "source": [
    "Ventajas:\n",
    "Es una expresión que explica con obtener el resultado.\n",
    "Por ello ahorra la memoria y aumenta la velocidad."
   ]
  },
  {
   "cell_type": "markdown",
   "metadata": {},
   "source": [
    "# Generadores\n",
    "Es lo mismo que un iterador pero escrito de forma más elegante.\n",
    "\n",
    "Un “list comprehension” es una manera sencilla de implementar un ciclo el cual nos permite crear una nueva lista con elementos basados en los valores de una lista existente. Dicha lista creada almacena cada uno de estos nuevos valores.\n",
    "\n",
    "A diferencia de un List comprehension que puede ocupar mucha memoria pues cada valor es almacenado en la variable, un Generator expression solo los recorre, sin guardarlos en una lista nueva. Permite traer un elemento a la vez cuando se recorra usando un ciclo for.\n",
    "\n",
    "Sugar syntax de los iteradores. Los generadores son funciones que guardan un estado. Es un iterador escrito de forma más simple."
   ]
  },
  {
   "cell_type": "code",
   "execution_count": 35,
   "metadata": {},
   "outputs": [
    {
     "name": "stdout",
     "output_type": "stream",
     "text": [
      "Hello world!\n",
      "0\n",
      "Hello heaven!\n",
      "1\n",
      "Hello hell!\n",
      "2\n"
     ]
    },
    {
     "ename": "StopIteration",
     "evalue": "",
     "output_type": "error",
     "traceback": [
      "\u001b[0;31m---------------------------------------------------------------------------\u001b[0m",
      "\u001b[0;31mStopIteration\u001b[0m                             Traceback (most recent call last)",
      "\u001b[1;32m/home/carloscastau/Documents/Platzi/Data Scientist/14. Curso Profesional de Python/notas_del_curso.ipynb Cell 34'\u001b[0m in \u001b[0;36m<cell line: 21>\u001b[0;34m()\u001b[0m\n\u001b[1;32m     <a href='vscode-notebook-cell:/home/carloscastau/Documents/Platzi/Data%20Scientist/14.%20Curso%20Profesional%20de%20Python/notas_del_curso.ipynb#ch0000036?line=18'>19</a>\u001b[0m \u001b[39mprint\u001b[39m(\u001b[39mnext\u001b[39m(a)) \u001b[39m# Hello heaven!\u001b[39;00m\n\u001b[1;32m     <a href='vscode-notebook-cell:/home/carloscastau/Documents/Platzi/Data%20Scientist/14.%20Curso%20Profesional%20de%20Python/notas_del_curso.ipynb#ch0000036?line=19'>20</a>\u001b[0m \u001b[39mprint\u001b[39m(\u001b[39mnext\u001b[39m(a)) \u001b[39m# Hello hell!\u001b[39;00m\n\u001b[0;32m---> <a href='vscode-notebook-cell:/home/carloscastau/Documents/Platzi/Data%20Scientist/14.%20Curso%20Profesional%20de%20Python/notas_del_curso.ipynb#ch0000036?line=20'>21</a>\u001b[0m \u001b[39mprint\u001b[39m(\u001b[39mnext\u001b[39;49m(a)) \n\u001b[1;32m     <a href='vscode-notebook-cell:/home/carloscastau/Documents/Platzi/Data%20Scientist/14.%20Curso%20Profesional%20de%20Python/notas_del_curso.ipynb#ch0000036?line=21'>22</a>\u001b[0m \u001b[39mStopIteration\u001b[39;00m\n",
      "\u001b[0;31mStopIteration\u001b[0m: "
     ]
    }
   ],
   "source": [
    "def my_gen():\n",
    "  '''un ejemplo de generadores'''\n",
    "\n",
    "  print('Hello world!')\n",
    "  n = 0\n",
    "  yield n # es exactamente lo mismo que return pero detiene la función, cuando se vuelva a llamar a la función, seguirá desde donde se quedó\n",
    "\n",
    "  print('Hello heaven!')\n",
    "  n = 1\n",
    "  yield n\n",
    "\n",
    "  print('Hello hell!')\n",
    "  n = 2\n",
    "  yield n\n",
    "\n",
    "\n",
    "a = my_gen()\n",
    "print(next(a)) # Hello world!\n",
    "print(next(a)) # Hello heaven!\n",
    "print(next(a)) # Hello hell!\n",
    "print(next(a)) \n",
    "StopIteration"
   ]
  },
  {
   "cell_type": "markdown",
   "metadata": {},
   "source": [
    "Ahora veremos un generator expression (es como list comprehension pero mucho mejor, porque podemos manejar mucha cantidad\n",
    "de información sin tener problemas de rendimiento):"
   ]
  },
  {
   "cell_type": "code",
   "execution_count": null,
   "metadata": {},
   "outputs": [],
   "source": [
    "#Generator expression\n",
    "\n",
    "my_list = [0,1,4,7,9,10]\n",
    "\n",
    "my_second_list = [x*2 for x in my_list] #List comprehension\n",
    "my_second_gen = (x*2 for x in my_list) #Generator expression"
   ]
  },
  {
   "cell_type": "markdown",
   "metadata": {},
   "source": [
    "\n",
    "Como se puede ver en el ejemplo, la diferencia en la sintaxis únicamente es en el uso de paréntesis en lugar del uso de corchetes.\n",
    "\n",
    "Ventajas de los Generadores:\n",
    "\n",
    "- Es mas fácil de escribir que un iterador\n",
    "- Ahorra Tiempo y Memoria\n",
    "- Permite guardar secuencias infinitas"
   ]
  },
  {
   "cell_type": "markdown",
   "metadata": {},
   "source": [
    "# Sets\n",
    "Una coleccion desordenada de elementos únicos e inmutables.\n",
    "Los sets son una estructura de datos muy similares a las listas en cuanto a su forma, pero presentan ciertas características particulares:\n",
    "\n",
    "Los sets sonmutables sus elementos son inmutables\n",
    "\n",
    "Cada elemento del set es único, esto es que no se admiten duplicados, aun si durante la definición del set se agregan elementos repetidos pyhton solo guarda un elemento\n",
    "\n",
    "los sets guardan los elementos en desorden\n",
    "\n",
    "Para declararlos se utilizan los {} parecido a los diccionarios solo que carece de la composición de conjunto {a:b, c:d}"
   ]
  },
  {
   "cell_type": "code",
   "execution_count": 36,
   "metadata": {},
   "outputs": [
    {
     "name": "stdout",
     "output_type": "stream",
     "text": [
      "{1, 3, 5}\n",
      "{1.0, 'Hi', (1, 4, 7)}\n"
     ]
    }
   ],
   "source": [
    "# set de enteros\n",
    "my_set = {1, 3, 5}\n",
    "print(my_set)\n",
    "\n",
    "# set de diferentes tipos de datos\n",
    "my_set = {1.0, \"Hi\", (1, 4, 7)}\n",
    "print(my_set)"
   ]
  },
  {
   "cell_type": "markdown",
   "metadata": {},
   "source": [
    "Los sets no pueden ser leídos como las listas o recorridos a través de slices, esto debido a que no tienen un criterio de orden. Sin embargo si podemos agregar o eliminar items de los sets utilizando métodos:\n",
    "\n",
    "- **add():** nos permite agregar elementos al set, si se intenta agregar un elemento existente simplemente python los ignorara\n",
    "- **update():** nos permite agregar múltiples elementos al set\n",
    "- **remove():** permite eliminar un elemento del set, en el caso en que no se encuentre presente dicho elemento, Python elevará un error\n",
    "- **discard():** permite eliminar un elemento del set, en el caso en que no se encuentre presente dicho elemento, Python dejará el set intacto, sin elevar ningún error.\n",
    "- **pop():** permite eliminar un elemento del set, pero lo hará de forma aleatoria.\n",
    "- **clear():** Limpia completamente el set, dejándolo vació."
   ]
  },
  {
   "cell_type": "code",
   "execution_count": 37,
   "metadata": {},
   "outputs": [
    {
     "name": "stdout",
     "output_type": "stream",
     "text": [
      "{1, 2, 3}\n",
      "{1, 2, 3, 4}\n",
      "{1, 2, 3, 4, 5, 6}\n",
      "{2, 3, 4, 5, 6}\n",
      "{3, 4, 5, 6}\n",
      "set()\n"
     ]
    }
   ],
   "source": [
    "#ejemplo de operaciones sobre sets \n",
    "my_set = {1, 2, 3} \n",
    "print(my_set) #Output {1, 2, 3} \n",
    "\n",
    "#añadiendo un elemento al set \n",
    "my_set.add(4) \n",
    "print(my_set) #Output {1, 2, 3, 4}\n",
    "\n",
    "#añadiendo varios elementos al set, python ignorará elementos repetidos \n",
    "my_set.update([1, 5, 6]) \n",
    "print(my_set) #Output {1, 2, 3, 4, 5, 6}\n",
    "\n",
    "# eliminado elementos del set \n",
    "my_set.discard(1) \n",
    "print(my_set) #Output {2, 3, 4, 5, 6}\n",
    "\n",
    "# borrando un elemento aleatorio \n",
    "my_set.pop()\n",
    "print(my_set) #Output el set menos un elemento aleatorio \n",
    "\n",
    "#limpiar el set \n",
    "my_set.clear()\n",
    "print(my_set) # Output set() "
   ]
  },
  {
   "cell_type": "markdown",
   "metadata": {},
   "source": [
    "Podemos utilizar estructuras de datos existentes para transformarlas a sets utilizando el método set:"
   ]
  },
  {
   "cell_type": "code",
   "execution_count": 40,
   "metadata": {},
   "outputs": [
    {
     "name": "stdout",
     "output_type": "stream",
     "text": [
      "{1, 2, 3, 4, 5}\n",
      "{1, 2, 'hola'}\n"
     ]
    }
   ],
   "source": [
    "#usando listas para crear sets\n",
    "my_list = [1, 2, 3, 3, 4, 5]\n",
    "my_set = set(my_list)\n",
    "print(my_set)  #output {1, 2, 3, 4, 5}\n",
    "\n",
    "#usando tuplas para crear sets \n",
    "my_tuple = ('hola', 'hola', 1, 2)\n",
    "my_set2 = set(my_tuple)\n",
    "print(my_set2) #Output {'hola', 1}"
   ]
  },
  {
   "cell_type": "markdown",
   "metadata": {},
   "source": [
    "## Operaciones con sets\n",
    "\n",
    "En caso de que quieran hacer operaciones con sets y hacerlo de forma más explícita pueden usar los métodos:\n",
    "\n",
    "**Unión**\n",
    "\n",
    "Resultado de juntar todos los elementos que tienen ambos, combinar ambos sets\n",
    "\n",
    ">set1.union(set2)\n",
    "\n",
    "**Diferencia Simétrica**\n",
    "\n",
    "Tomar todos los elementos exceptos los que se repiten\n",
    "\n",
    ">set1.symmetric_difference(set2)\n",
    "\n",
    "**Diferencia**\n",
    "\n",
    "Tomar dos sets y de uno quitarle todos los elementos que tiene el otro\n",
    "\n",
    ">set1.difference(set2)\n",
    "\n",
    "**Intersección**\n",
    "\n",
    "Los que se repiten en ambos sets\n",
    "\n",
    ">set1.intersection(set2)\n",
    "\n",
    "Y se pueden encontrar más métodos que pueden serles útiles [aquí](https://python-reference.readthedocs.io/en/latest/docs/sets/) 😄"
   ]
  },
  {
   "cell_type": "code",
   "execution_count": 50,
   "metadata": {},
   "outputs": [],
   "source": [
    "# lista = [ 11, 55, 2, 2, 55]\n",
    "\n",
    "# def removerduplicados(lista):\n",
    "#     return lista(set(lista))\n",
    "\n",
    "# print(removerduplicados(lista))"
   ]
  },
  {
   "cell_type": "markdown",
   "metadata": {},
   "source": [
    "# Manejo de fechas\n",
    "\n",
    "Si quieren aplicar Python para análisis de datos es fundamental que dominen el manejo de fechas la librería datetime tiene dos funciones muy utilizadas que me parece importante ver\n",
    "\n",
    "1. timedelta: retorna un delta de tiempo, es de ayuda en situaciones donde necesitamos restar o sumar por ej 1 día a cada fecha o 20 minutos cada fecha hora\n",
    "\n",
    "2. strptime: recibe un str y retorna un objeto datetime, esto lo podeos usar para validar formatos de fecha capturando u ValueError cuando estos trabajando con archivos y queremos validar formatos de fechas con simple lambda podemos aplicar formato a todo el dataset y capturas los erros antes de operar con ellos o guardar en la db\n",
    "\n",
    "Pueden encontrar todos los códigos de formato [aquí](https://docs.python.org/es/3/library/datetime.html#strftime-and-strptime-format-codes)"
   ]
  },
  {
   "cell_type": "markdown",
   "metadata": {},
   "source": [
    "# Time zones\n",
    "Para trabajar con zonas horarias se debe trabajar con el módulo pytz, el cual debe ser instalado por pip ya que no viene de fábrica:\n",
    "\n",
    "Adicional, requerimos los Time zones database name que podemos encontrar en el siguiente enlace [Aquí](https://en.wikipedia.org/wiki/List_of_tz_database_time_zones)"
   ]
  }
 ],
 "metadata": {
  "interpreter": {
   "hash": "916dbcbb3f70747c44a77c7bcd40155683ae19c65e1c03b4aa3499c5328201f1"
  },
  "kernelspec": {
   "display_name": "Python 3.10.4 64-bit",
   "language": "python",
   "name": "python3"
  },
  "language_info": {
   "codemirror_mode": {
    "name": "ipython",
    "version": 3
   },
   "file_extension": ".py",
   "mimetype": "text/x-python",
   "name": "python",
   "nbconvert_exporter": "python",
   "pygments_lexer": "ipython3",
   "version": "3.10.4"
  },
  "orig_nbformat": 4
 },
 "nbformat": 4,
 "nbformat_minor": 2
}
